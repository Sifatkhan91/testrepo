{
 "cells": [
  {
   "cell_type": "markdown",
   "id": "c3c0583b-0c66-4a0b-963b-4b1b49bea1c3",
   "metadata": {},
   "source": [
    "Data Science Tools and Ecosystem"
   ]
  },
  {
   "cell_type": "markdown",
   "id": "88839dbc-ad36-4ec4-b706-e136e781a5e0",
   "metadata": {},
   "source": [
    "In this notebook, Data Science Tools and Ecosystem are summarized."
   ]
  },
  {
   "cell_type": "markdown",
   "id": "a7baf32c-5d0a-44fb-8d3f-66554f7ee3cf",
   "metadata": {},
   "source": [
    "Some of the popular languages that Data Scientists use are:\n",
    "Python\n",
    "R\n",
    "Java"
   ]
  },
  {
   "cell_type": "markdown",
   "id": "b30bcee3-e393-44a9-ac1f-65b8dce24735",
   "metadata": {},
   "source": [
    "Some of the commonly used libraries used by Data Scientists include:\n",
    "Pandas\n",
    "Numpy\n",
    "ggplot\n"
   ]
  },
  {
   "cell_type": "markdown",
   "id": "d93045af-192b-460b-9c07-726e2b674f85",
   "metadata": {},
   "source": [
    "Data Science Tools\n",
    "Jupyter Nootbook\n",
    "Watson studeio\n",
    "Visual studeio"
   ]
  },
  {
   "cell_type": "markdown",
   "id": "12a3b298-7424-40bb-8912-a5944954c826",
   "metadata": {},
   "source": [
    "### Introduction to Arithmetic Expressions\r\n",
    "\r\n",
    "Arithmetic expressions involve basic mathematical operations like addition, subtraction, multiplication, and division, essential for programming and calculations."
   ]
  },
  {
   "cell_type": "code",
   "execution_count": 2,
   "id": "fcab4c32-d5e8-42fb-afdd-0a2acba77afd",
   "metadata": {},
   "outputs": [
    {
     "name": "stdout",
     "output_type": "stream",
     "text": [
      "17\n"
     ]
    }
   ],
   "source": [
    "\n",
    "# This expression multiplies 3 by 4 and then adds 5 to the result\n",
    "result = (3 * 4) + 5\n",
    "print(result)"
   ]
  },
  {
   "cell_type": "code",
   "execution_count": 3,
   "id": "e0316ba6-a81d-4ee1-bbab-ebc605ab2cbd",
   "metadata": {},
   "outputs": [
    {
     "name": "stdout",
     "output_type": "stream",
     "text": [
      "3.3333333333333335\n"
     ]
    }
   ],
   "source": [
    "\n",
    "# This will convert 200 minutes to hours by dividing by 60\n",
    "minutes = 200\n",
    "hours = minutes / 60\n",
    "print(hours)\n"
   ]
  },
  {
   "cell_type": "markdown",
   "id": "9a24edfb-e554-416d-8ce3-c7eda9bec430",
   "metadata": {},
   "source": [
    "**Objectives:**\n",
    "\n",
    "- Understand the basics of arithmetic expressions\n",
    "- Learn how to multiply and add numbers in Python\n",
    "- Convert minutes into hours using Python code\n",
    "- Gain familiarity with writing comments in code\n",
    "- Explore popular languages for Data Science"
   ]
  },
  {
   "cell_type": "markdown",
   "id": "8ee2fdfa-694c-4e63-93c0-19162d6ed029",
   "metadata": {},
   "source": [
    "## Author\r\n",
    "\r\n",
    "Sifat Ullah Khan\r\n"
   ]
  },
  {
   "cell_type": "code",
   "execution_count": null,
   "id": "304e04d0-c4bb-4725-8bc8-7ece9f4958dc",
   "metadata": {},
   "outputs": [],
   "source": []
  }
 ],
 "metadata": {
  "kernelspec": {
   "display_name": "Python 3 (ipykernel)",
   "language": "python",
   "name": "python3"
  },
  "language_info": {
   "codemirror_mode": {
    "name": "ipython",
    "version": 3
   },
   "file_extension": ".py",
   "mimetype": "text/x-python",
   "name": "python",
   "nbconvert_exporter": "python",
   "pygments_lexer": "ipython3",
   "version": "3.11.7"
  }
 },
 "nbformat": 4,
 "nbformat_minor": 5
}
